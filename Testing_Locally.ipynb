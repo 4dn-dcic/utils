{
 "cells": [
  {
   "cell_type": "code",
   "execution_count": 1,
   "metadata": {},
   "outputs": [
    {
     "ename": "ModuleNotFoundError",
     "evalue": "No module named 'boto3'",
     "output_type": "error",
     "traceback": [
      "\u001b[0;31m---------------------------------------------------------------------------\u001b[0m",
      "\u001b[0;31mModuleNotFoundError\u001b[0m                       Traceback (most recent call last)",
      "\u001b[0;32m<ipython-input-1-4bea42f4fb7e>\u001b[0m in \u001b[0;36m<module>\u001b[0;34m\u001b[0m\n\u001b[0;32m----> 1\u001b[0;31m \u001b[0;32mfrom\u001b[0m \u001b[0mdcicutils\u001b[0m \u001b[0;32mimport\u001b[0m \u001b[0mff_utils\u001b[0m\u001b[0;34m\u001b[0m\u001b[0m\n\u001b[0m",
      "\u001b[0;32m~/Documents/GitHub/utils/dcicutils/__init__.py\u001b[0m in \u001b[0;36m<module>\u001b[0;34m\u001b[0m\n\u001b[1;32m      1\u001b[0m \u001b[0;32mfrom\u001b[0m \u001b[0m__future__\u001b[0m \u001b[0;32mimport\u001b[0m \u001b[0mabsolute_import\u001b[0m\u001b[0;34m\u001b[0m\u001b[0m\n\u001b[0;32m----> 2\u001b[0;31m \u001b[0;32mfrom\u001b[0m \u001b[0;34m.\u001b[0m\u001b[0mbeanstalk_utils\u001b[0m \u001b[0;32mimport\u001b[0m \u001b[0;34m*\u001b[0m  \u001b[0;31m# NOQA\u001b[0m\u001b[0;34m\u001b[0m\u001b[0m\n\u001b[0m\u001b[1;32m      3\u001b[0m \u001b[0;32mfrom\u001b[0m \u001b[0;34m.\u001b[0m\u001b[0mff_utils\u001b[0m \u001b[0;32mimport\u001b[0m \u001b[0;34m*\u001b[0m  \u001b[0;31m# NOQA\u001b[0m\u001b[0;34m\u001b[0m\u001b[0m\n\u001b[1;32m      4\u001b[0m \u001b[0;32mfrom\u001b[0m \u001b[0;34m.\u001b[0m\u001b[0ms3_utils\u001b[0m \u001b[0;32mimport\u001b[0m \u001b[0;34m*\u001b[0m  \u001b[0;31m# NOQA\u001b[0m\u001b[0;34m\u001b[0m\u001b[0m\n",
      "\u001b[0;32m~/Documents/GitHub/utils/dcicutils/beanstalk_utils.py\u001b[0m in \u001b[0;36m<module>\u001b[0;34m\u001b[0m\n\u001b[1;32m      5\u001b[0m \u001b[0;32mimport\u001b[0m \u001b[0msubprocess\u001b[0m\u001b[0;34m\u001b[0m\u001b[0m\n\u001b[1;32m      6\u001b[0m \u001b[0;32mimport\u001b[0m \u001b[0mlogging\u001b[0m\u001b[0;34m\u001b[0m\u001b[0m\n\u001b[0;32m----> 7\u001b[0;31m \u001b[0;32mimport\u001b[0m \u001b[0mboto3\u001b[0m\u001b[0;34m\u001b[0m\u001b[0m\n\u001b[0m\u001b[1;32m      8\u001b[0m \u001b[0;32mimport\u001b[0m \u001b[0mos\u001b[0m\u001b[0;34m\u001b[0m\u001b[0m\n\u001b[1;32m      9\u001b[0m \u001b[0;32mimport\u001b[0m \u001b[0mjson\u001b[0m\u001b[0;34m\u001b[0m\u001b[0m\n",
      "\u001b[0;31mModuleNotFoundError\u001b[0m: No module named 'boto3'"
     ]
    }
   ],
   "source": [
    "from dcicutils import ff_utils"
   ]
  },
  {
   "cell_type": "code",
   "execution_count": 2,
   "metadata": {},
   "outputs": [
    {
     "name": "stdout",
     "output_type": "stream",
     "text": [
      "\u001b[33mWARNING: Could not find setup.py for directory /Users/lmercado/Documents/GitHub/utils (tried all parent directories)\u001b[0m\r\n",
      "atomicwrites==1.3.0\r\n",
      "attrs==19.3.0\r\n",
      "aws-requests-auth==0.4.2\r\n",
      "boto3==1.12.0\r\n",
      "botocore==1.15.0\r\n",
      "CacheControl==0.12.6\r\n",
      "cachy==0.3.0\r\n",
      "certifi==2019.11.28\r\n",
      "chardet==3.0.4\r\n",
      "cleo==0.7.6\r\n",
      "clikit==0.4.1\r\n",
      "coverage==4.5.4\r\n",
      "-e git+https://github.com/4dn-dcic/utils.git@3c901201b3580aef2da6d8a4cc14575546022694#egg=dcicutils\r\n",
      "docutils==0.15.2\r\n",
      "elasticsearch==5.5.3\r\n",
      "entrypoints==0.3\r\n",
      "flake8==3.7.9\r\n",
      "flaky==3.6.1\r\n",
      "html5lib==1.0.1\r\n",
      "idna==2.8\r\n",
      "importlib-metadata==1.5.0\r\n",
      "jmespath==0.9.4\r\n",
      "jsonschema==3.2.0\r\n",
      "keyring==20.0.1\r\n",
      "lockfile==0.12.2\r\n",
      "mccabe==0.6.1\r\n",
      "more-itertools==8.2.0\r\n",
      "msgpack==1.0.0\r\n",
      "packaging==20.1\r\n",
      "pastel==0.1.1\r\n",
      "pexpect==4.8.0\r\n",
      "pkginfo==1.5.0.1\r\n",
      "pluggy==0.13.1\r\n",
      "poetry==1.0.3\r\n",
      "ptyprocess==0.6.0\r\n",
      "py==1.8.1\r\n",
      "pycodestyle==2.5.0\r\n",
      "pyflakes==2.1.1\r\n",
      "pylev==1.3.0\r\n",
      "pyparsing==2.4.6\r\n",
      "pyrsistent==0.14.11\r\n",
      "pytest==4.6.9\r\n",
      "pytest-cov==2.8.1\r\n",
      "pytest-mock==1.13.0\r\n",
      "pytest-runner==5.2\r\n",
      "python-dateutil==2.8.1\r\n",
      "requests==2.22.0\r\n",
      "requests-toolbelt==0.8.0\r\n",
      "s3transfer==0.3.3\r\n",
      "shellingham==1.3.2\r\n",
      "six==1.14.0\r\n",
      "structlog==19.2.0\r\n",
      "tomlkit==0.5.8\r\n",
      "urllib3==1.25.8\r\n",
      "wcwidth==0.1.8\r\n",
      "webencodings==0.5.1\r\n",
      "zipp==1.1.0\r\n"
     ]
    }
   ],
   "source": [
    "! pip freeze"
   ]
  },
  {
   "cell_type": "code",
   "execution_count": null,
   "metadata": {},
   "outputs": [],
   "source": []
  }
 ],
 "metadata": {
  "kernelspec": {
   "display_name": "Python 3",
   "language": "python",
   "name": "python3"
  },
  "language_info": {
   "codemirror_mode": {
    "name": "ipython",
    "version": 3
   },
   "file_extension": ".py",
   "mimetype": "text/x-python",
   "name": "python",
   "nbconvert_exporter": "python",
   "pygments_lexer": "ipython3",
   "version": "3.6.5"
  }
 },
 "nbformat": 4,
 "nbformat_minor": 2
}
